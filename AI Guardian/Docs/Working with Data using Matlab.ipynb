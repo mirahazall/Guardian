{
 "cells": [
  {
   "cell_type": "markdown",
   "id": "eb5fb2a4-bf2d-4e71-9a1d-01071f268f93",
   "metadata": {},
   "source": [
    "# Working with WiFi CSI Data Using Matlab"
   ]
  },
  {
   "cell_type": "markdown",
   "id": "31219194-4fc1-4222-b0d1-58dc3256c35a",
   "metadata": {},
   "source": [
    "---"
   ]
  },
  {
   "cell_type": "markdown",
   "id": "ffee0f5b-0645-4159-8465-bea393118322",
   "metadata": {},
   "source": [
    "### Dataset"
   ]
  },
  {
   "cell_type": "markdown",
   "id": "99e838b9-b60e-45a8-8037-557d575ce355",
   "metadata": {},
   "source": [
    "Download the database here: https://figshare.com/articles/dataset/Wireless_sensing_dataset_for_human_activity_recognition_HAR_/20444538?file=36582765\n",
    "\n",
    "The database will be downloaded in zip files so it's better to download the \"Wireless_sensing_human_activity_recognition.zip\" rather than using \"Download all\" option for better extraction.\n",
    "\n",
    "**Software required: MATLAB** software is required to open the dataset files.\n"
   ]
  },
  {
   "cell_type": "markdown",
   "id": "520ef417-4298-4203-ab95-3aae4cc6d58d",
   "metadata": {},
   "source": [
    "---"
   ]
  },
  {
   "cell_type": "markdown",
   "id": "9b09e0d4-e89a-401c-be43-71a7277f5944",
   "metadata": {},
   "source": [
    "### Understanding the Dataset"
   ]
  },
  {
   "cell_type": "markdown",
   "id": "c56aadf6-cc01-4973-9526-eb782812f4a0",
   "metadata": {},
   "source": [
    "Description of WiFi Channel State Information (CSI) and Ultra Wideband (UWB) Channel Impulse Response (CIR) data for human activity recognition (wireless sensing of human activities):\n",
    "\n",
    "The main dataset folder \"Wireless_sensing_human_activity_recognition\" consists of 2 subfolders:\n",
    "\n",
    "<ol>(1) \"WiFi_CSI\" - containing WiFi channel state information (CSI) data collected across 3 rooms</ol>\n",
    "<ol>(2) \"UWB\"      - containing Ultra-Wideband (UWB) channel impulse response (CIR) data collected in one room.</ol>\n",
    "\n",
    "(1) The \"WiFi_CSI\" folder contains the following subfolders:\n",
    "<ul>(i)   Room_1</ul>\n",
    "<ul>(ii)  Room_2</ul>\n",
    "<ul>(iii) Room_3</ul>\n",
    "\n",
    "(2) The \"UWB\" folder contains no subfolders.\n",
    "\n",
    "(NOTE: No personal data has been collected during the experiments)e experiments)"
   ]
  },
  {
   "cell_type": "markdown",
   "id": "ee536613-7657-4364-ab6f-05c44351fe03",
   "metadata": {},
   "source": [
    "---"
   ]
  },
  {
   "cell_type": "markdown",
   "id": "b3ae5dcf-ce49-4514-9d3b-c447372594f5",
   "metadata": {},
   "source": [
    "**(1) \"Wireless_sensing_human_activity_recognition/WiFi_CSI/Room_1\" folder**\n",
    "\n",
    "***Description of experiment:***\n",
    "\n",
    "Dataset was collected using two WiFi devices; \n",
    "i)  one transmitter (WiFi TP-Link Archer 7 router) and \n",
    "ii) one receiver (Next Unit of Computing (NUC) device equipped with an Intel 5300 network interface card (NIC)).\n",
    "\n",
    "Complex CSI data is recorded at the receiver by pinging the router at a fixed packet rate \n",
    "(access point mode used --> see https://dhalperi.github.io/linux-80211n-csitool/ for more information on CSI and installation instructions)\n",
    "\n",
    "***Parameters:***\n",
    "1) 8 participants of different demographics\n",
    "2) Passive sensing, i.e., participant is not equipped or does not carry any device.\n",
    "3) Line-of-sight between transmitter and receiver\n",
    "4) Approximately 4 metres separation between transmitter and receiver\n",
    "5) Activities performed between transmitter and receiver, no predefined position (random).\n",
    "6) Office environment, with chair, sofa, table, shelves, screen, etc lying in the surroundings.\n",
    "7) 1 transmit antenna and 3 receive antennas (1x3 antenna configuration)\n",
    "8) 30 Orthogonal Frequency Division Multiplexing (OFDM) subcarriers extracted per transmit-receive pair\n",
    "9) 5 GHz band\n",
    "10) 40 MHz WiFi channel bandwidth\n",
    "11) 1 kHz packet rate (1000 samples per second) - pinging rate\n",
    "\n",
    "***Human activities recorded:***\n",
    "1) 'sit'             - participant sitting on a chair\n",
    "2) 'stand'           - participant standing from chair\n",
    "3) 'walk'            - participant walking around within the monitoring area\n",
    "4) 'liedown'         - participant lying down on the floor\n",
    "5) 'standff'         - participant standing from the floor\n",
    "6) 'sitrotate'       - participant rotating his body while sitting at fixed position\n",
    "7) 'standrotate'     - participant rotating his body while standing at fixed position\n",
    "8) 'pickup'          - participant picking up an object from the floor\n",
    "9) 'kneel'           - participant kneeling down on the floor\n",
    "10) 'noactivity'     - participant not doing any activity (body at rest)\n",
    "11) 'ignore'         - this portion of data can be ignored since during this time the experiment equipment was being set up.\n",
    "\n",
    "Total duration of experiment = 1.16 hours\n",
    "\n",
    "***Dataset Details:***\n",
    "1. Dataset organised as .mat files (one for each participant).\n",
    "2. There are 8 .mat files, each corresponding to a given participant, \"participant_1\", \"participant_2\", and so on (Note: no personal data collected).\n",
    "3. Within each .mat file, the raw complex CSI data is organised as Matlab Table (named as \"DATA\" when opened in MATLAB).\n",
    "Each row in the MATLAB table corresponds to a CSI packet received over time.\n",
    "\n",
    "4. Structure of data within each .mat file:\n",
    "\n",
    "(i)   \"time_duration_seconds\" (Column 1): The duration of the activities in seconds starting from 0.\n",
    "(ii) \"tx1rx1_sub1, tx1rx1_sub2,..., tx1rx3_sub30\" (Columns 2 to 91): \n",
    "     \"tx1rx1_sub1\" corresponds to the raw complex CSI values for transmit antenna 1 (tx1), receive antenna 1 (rx1) and OFDM subcarrier 1 (sub1). \n",
    "     \"tx1rx1_sub2\" corresponds to the raw complex CSI values for transmit antenna 1 (tx1), receive antenna 1 (rx1) and OFDM subcarrier 2 (sub2), and so on. \n",
    "\n",
    "The WiFi CSI system used a 1 × 3 antenna configuration and since the Intel 5300 NIC extracts CSI data over 30 subcarriers, \n",
    "the total number of complex CSI values recorded per packet is 1 × 3 × 30 = 90 (one transmit antenna, 3 receive antennas and 30 subcarriers).\n",
    "\n",
    "(iii) \"activity\" (Column 92): : current activity being performed. \n",
    "The activity is specified as a string of characters with no spacing e.g., \"walk\", \"sit\", \"stand\", \"liedown\", \"standff\", \"noactivity\", etc.\n",
    "\n",
    "5. The file \"activity_distribution.csv\" gives a breakdown of the activities' duration in minutes."
   ]
  },
  {
   "cell_type": "markdown",
   "id": "741600b1-3e91-4c4a-8c73-8d1b30b9ce04",
   "metadata": {},
   "source": [
    "---"
   ]
  },
  {
   "cell_type": "markdown",
   "id": "dd480c61-a092-4c1e-9212-6ab1f9bccdd4",
   "metadata": {},
   "source": [
    "**(2) \"Wireless_sensing_human_activity_recognition/WiFi_CSI/Room_2\" folder**\n",
    "\n",
    "***Description of experiment:***\n",
    "\n",
    "Dataset was collected using two WiFi devices; \n",
    "i)  one transmitter (WiFi TP-Link Archer 7 router) and \n",
    "ii) one receiver (Next Unit of Computing (NUC) device equipped with an Intel 5300 network interface card (NIC)).\n",
    "\n",
    "Complex CSI data is recorded at the receiver by pinging the router at a fixed packet rate \n",
    "(access point mode used --> see https://dhalperi.github.io/linux-80211n-csitool/ for more information on CSI and installation instructions)\n",
    "\n",
    "***Parameters:***\n",
    "1) One participant\n",
    "2) Passive sensing, i.e., participant is not equipped or does not carry any device.\n",
    "3) Line-of-sight between transmitter and receiver\n",
    "4) Approximately 4 metres separation between transmitter and receiver\n",
    "5) Activities performed between transmitter and receiver, no predefined position (random).\n",
    "6) Office environment, with chair, table, shelves, screen, etc lying in the surroundings.\n",
    "7) 1 transmit antenna and 3 receive antennas (1x3 antenna configuration)\n",
    "8) 30 Orthogonal Frequency Division Multiplexing (OFDM) subcarriers extracted per transmit-receive pair\n",
    "9) 5 GHz band\n",
    "10) 40 MHz WiFi channel bandwidth\n",
    "11) 1 kHz packet rate (1000 samples per second) - pinging rate\n",
    "\n",
    "***8 human activities recorded:***\n",
    "1) 'sit'             - participant sitting on a chair\n",
    "2) 'stand'           - participant standing from chair\n",
    "3) 'walk'            - participant walking around within the monitoring area\n",
    "4) 'liedown'         - participant lying down on the floor\n",
    "5) 'sitrotate'       - participant rotating his body while sitting at fixed position\n",
    "6) 'standrotate'     - participant rotating his body while standing at fixed position\n",
    "7) 'pickup'          - participant picking up an object from the floor\n",
    "8) 'kneel'           - participant kneeling down on the floor\n",
    "\n",
    "***Dataset Details:***\n",
    "1. \"Room_2\" folder contains 8 subfolders: kneel, liedown, pickup, sit, sitrotate, stand, standrotate, walk\n",
    "2. Within each of the 8 subfolders, the dataset files are organised as .mat files.\n",
    "3. Total number of activity samples = 125\n",
    "4. Each .mat file corresponds to a segmented activity data of 10000 raw complex CSI packets (10 seconds). \n",
    "For example \"sit_10.mat\" file corresponds to the \"sitting down on a chair activity\" for the 10th activity repetition. The filename specifies the activity that was performed.\n",
    "5. Within each .mat file, the raw complex CSI data is organised as Matlab Table (named as \"DATA\" when opened in MATLAB).\n",
    "Each row in the MATLAB table corresponds to a CSI packet received over time.\n",
    "\n",
    "6. Structure of data within each .mat file:\n",
    "\n",
    "\"tx1rx1_sub1, tx1rx1_sub2,..., tx1rx3_sub30\" (Columns 1 to 90): \n",
    "\"tx1rx1_sub1\" corresponds to the raw complex CSI values for transmit antenna 1 (tx1), receive antenna 1 (rx1) and OFDM subcarrier 1 (sub1). \n",
    "\"tx1rx1_sub2\" corresponds to the raw complex CSI values for transmit antenna 1 (tx1), receive antenna 1 (rx1) and OFDM subcarrier 2 (sub2), and so on. \n",
    "\n",
    "The WiFi CSI system used a 1 × 3 antenna configuration and since the Intel 5300 NIC extracts CSI data over 30 subcarriers, \n",
    "the total number of complex CSI values recorded per packet is 1 × 3 × 30 = 90 (one transmit antenna, 3 receive antennas and 30 subcarriers).t antenna, 3 receive antennas and 30 subcarriers)."
   ]
  },
  {
   "cell_type": "markdown",
   "id": "8b4b98d0-3fd2-4f65-957f-41f99ef2c6fd",
   "metadata": {},
   "source": [
    "---"
   ]
  },
  {
   "cell_type": "markdown",
   "id": "e9b0d426-1a08-444d-b39c-4eeee5c3130b",
   "metadata": {},
   "source": [
    "### Consodilating all the Room 2 data into a single dataset using matlab code"
   ]
  },
  {
   "cell_type": "raw",
   "id": "504b566a-3c09-45b0-ad6c-11d66e760472",
   "metadata": {},
   "source": [
    "% Specify the directory where the .mat files are located - I have stored it in the Matlab drive since I was using MATLAB Online\n",
    "directory = '/MATLAB Drive/Room_2';"
   ]
  },
  {
   "cell_type": "markdown",
   "id": "e938b40e-71fa-4497-abdf-eb3c030eed6c",
   "metadata": {},
   "source": [
    "For the database I have selected Room 2 folder as Room 1 was very huge database so working with it was difficult. So initially, I'm starting with Room 2 and the subfolders under that."
   ]
  },
  {
   "cell_type": "raw",
   "id": "77e3eb1b-5183-4da5-b604-ed5893c9b6f5",
   "metadata": {},
   "source": [
    "% Listing all activity subfolders\n",
    "activity_folders = {'kneel', 'liedown', 'pickup', 'sit', 'sitrotate', 'stand', 'standrotate', 'walk'};\n",
    "\n",
    "% Initialize a table to hold all CSI data and an array to hold all activity labels\n",
    "all_csi_data = [];\n",
    "all_activities = [];\n",
    "\n",
    "% Loop over each activity folder\n",
    "for i = 1:length(activity_folders)\n",
    "activity_folder = fullfile(root_folder, activity_folders{i});\n",
    "    \n",
    "% Get a list of .mat files for the current activity\n",
    "mat_files = dir(fullfile(activity_folder, '*.mat'));\n",
    "    \n",
    "% Loop over each .mat file in the current activity folder\n",
    "    for j = 1:length(mat_files)\n",
    "\n",
    "% Loading the .mat file\n",
    "    mat_file_path = fullfile(mat_files(j).folder, mat_files(j).name);\n",
    "    loaded_data = load(mat_file_path);\n",
    "        \n",
    "% Extract CSI data from the 'DATA' table\n",
    "        csi_data = table2array(loaded_data.DATA);\n",
    "        \n",
    "% Append the CSI data to the master dataset\n",
    "        all_csi_data = [all_csi_data; csi_data];\n",
    "        \n",
    "% Append the activity label to the activity labels array\n",
    "% Create a cell array of the current activity label replicated for each row of data\n",
    "        activity_labels = repmat(activity_folders(i), size(csi_data, 1), 1);\n",
    "        all_activities = [all_activities; activity_labels];\n",
    "    end\n",
    "end\n",
    "\n",
    "% Converting the activity labels into a categorical array\n",
    "all_activities = categorical(all_activities);\n",
    "\n",
    "% At this point, all_csi_data is a matrix with all the CSI data, and all_activities is an array with the corresponding activity labels.\n",
    "% Combine them into a single table for convenience\n",
    "all_data_table = array2table(all_csi_data);\n",
    "all_data_table.activity = all_activities;\n",
    "\n",
    "% Saving the consolidated data into a new .mat file\n",
    "save('consolidated_data.mat', 'all_data_table');"
   ]
  },
  {
   "cell_type": "markdown",
   "id": "4208b1e4-e540-45fc-9989-19e9464bf6e3",
   "metadata": {},
   "source": [
    "---"
   ]
  },
  {
   "cell_type": "markdown",
   "id": "e7be411d-d660-493e-b60e-602592aa5782",
   "metadata": {},
   "source": [
    "### Convert the Consodiled .mat file into .csv file using matlab code"
   ]
  },
  {
   "cell_type": "markdown",
   "id": "c741ba4b-cadd-49bf-a869-b6b1ce8265ca",
   "metadata": {},
   "source": [
    "% Load the consolidated data from the .mat file\r\n",
    "load('consolidated_data.mat', 'all_data_table');\r\n",
    "\r\n",
    "% Define the filename for the CSV\r\n",
    "csv_filename = 'consolidated_data.csv';\r\n",
    "\r\n",
    "% Write the table to a CSV file\r\n",
    "writetable(all_data_table, csv_filename);"
   ]
  },
  {
   "cell_type": "markdown",
   "id": "90e36651-c145-43aa-a666-0adb5a87c815",
   "metadata": {},
   "source": [
    "***OR***"
   ]
  },
  {
   "cell_type": "raw",
   "id": "d494372a-5285-4a9a-8cdd-e564176b593b",
   "metadata": {},
   "source": [
    "% Convert the 'all_data_table' that is already in the workspace from .mat to .csv file\n",
    "writetable(all_data_table, '/MATLAB Drive/consolidated_data.csv');"
   ]
  }
 ],
 "metadata": {
  "kernelspec": {
   "display_name": "Python 3 (ipykernel)",
   "language": "python",
   "name": "python3"
  },
  "language_info": {
   "codemirror_mode": {
    "name": "ipython",
    "version": 3
   },
   "file_extension": ".py",
   "mimetype": "text/x-python",
   "name": "python",
   "nbconvert_exporter": "python",
   "pygments_lexer": "ipython3",
   "version": "3.11.7"
  }
 },
 "nbformat": 4,
 "nbformat_minor": 5
}
